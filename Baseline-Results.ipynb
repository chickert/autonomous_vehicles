{
 "cells": [
  {
   "cell_type": "code",
   "execution_count": null,
   "metadata": {},
   "outputs": [],
   "source": [
    "# Automatically reload custom code modules when there are changes:\n",
    "%load_ext autoreload\n",
    "%autoreload 2\n"
   ]
  },
  {
   "cell_type": "code",
   "execution_count": null,
   "metadata": {},
   "outputs": [],
   "source": [
    "# Adjust relative path so that the notebook can find the code modules:\n",
    "import sys\n",
    "sys.path.append('code/')\n"
   ]
  },
  {
   "cell_type": "code",
   "execution_count": null,
   "metadata": {},
   "outputs": [],
   "source": [
    "import numpy as np\n",
    "import pandas as pd\n",
    "\n",
    "import matplotlib as mpl\n",
    "import matplotlib.pyplot as plt\n",
    "\n",
    "%matplotlib inline\n"
   ]
  },
  {
   "cell_type": "code",
   "execution_count": null,
   "metadata": {},
   "outputs": [],
   "source": [
    "# Import code modules:\n",
    "from structures import *\n"
   ]
  },
  {
   "cell_type": "code",
   "execution_count": null,
   "metadata": {},
   "outputs": [],
   "source": [
    "# Hide warnings about safe distance violation (still in development):\n",
    "import warnings\n",
    "warnings.filterwarnings(\"ignore\", category=UserWarning)\n"
   ]
  },
  {
   "cell_type": "code",
   "execution_count": null,
   "metadata": {},
   "outputs": [],
   "source": [
    "# Define a ring road environment:\n",
    "env = RingRoad(\n",
    "    num_vehicles = 22,  # The vechicles at index 0 is an A.V.\n",
    "    ring_length = 230.0,  # The road is a cicle.\n",
    "    starting_noise = 4.0,  # Uniformly add noise to starting positions.\n",
    "    temporal_res = 0.3,  # Set the size of simulation steps (seconds).\n",
    "    av_activate = 30,  # Set when the PID controller is activated.\n",
    "    seed = 286,  # Set a random seed.\n",
    ")\n",
    "\n",
    "# Plot initial conditions:\n",
    "fig,ax = env.visualize(step=0, draw_cars_to_scale=True, draw_safety_buffer=True)\n"
   ]
  },
  {
   "cell_type": "code",
   "execution_count": null,
   "metadata": {},
   "outputs": [],
   "source": [
    "# Run the simulation for set number of time steps:\n",
    "total_time = 50  # In seconds.\n",
    "total_steps = int(np.ceil(total_time/env.dt))\n",
    "env.run(steps=total_steps)\n"
   ]
  },
  {
   "cell_type": "code",
   "execution_count": null,
   "metadata": {},
   "outputs": [],
   "source": [
    "step = env.step  # Final step of simulation.\n",
    "fig, axs = env.plot_dashboad(\n",
    "    step=int(np.ceil(step/env.dt)), total_steps=total_steps,\n",
    "    draw_cars_to_scale=True, draw_safety_buffer=True, label_step=True, label_cars=True,\n",
    ")\n"
   ]
  },
  {
   "cell_type": "code",
   "execution_count": null,
   "metadata": {},
   "outputs": [],
   "source": [
    "steps_before = range(0,env.av_activate)\n",
    "steps_after = range(env.av_activate, env.step)\n",
    "speeds_before = env.get_vehicle_vel_table(steps_before)\n",
    "speeds_after = env.get_vehicle_vel_table(steps_after)\n",
    "print(\"Mean standard deviation before: {}\".format(speeds_before.std(axis=0).mean()))\n",
    "print(\"Mean standard deviation after: {}\".format(speeds_after.std(axis=0).mean()))\n",
    "df_before = pd.DataFrame(speeds_before.std(axis=0).to_frame(name='before AV control'))\n",
    "df_after = pd.DataFrame(speeds_after.std(axis=0).to_frame(name='after AV control'))\n",
    "pd.concat([df_before,df_after],axis=1)\n"
   ]
  },
  {
   "cell_type": "code",
   "execution_count": null,
   "metadata": {
    "scrolled": false
   },
   "outputs": [],
   "source": [
    "# n = 10  # Draw the ring road at every n-th step.\n",
    "# for step in np.arange(0,env.step,int(n)):\n",
    "#     env.visualize(step=step, draw_cars_to_scale=False, label_cars=True)\n"
   ]
  },
  {
   "cell_type": "code",
   "execution_count": null,
   "metadata": {},
   "outputs": [],
   "source": []
  }
 ],
 "metadata": {
  "kernelspec": {
   "display_name": "cs286",
   "language": "python",
   "name": "cs286"
  },
  "language_info": {
   "codemirror_mode": {
    "name": "ipython",
    "version": 3
   },
   "file_extension": ".py",
   "mimetype": "text/x-python",
   "name": "python",
   "nbconvert_exporter": "python",
   "pygments_lexer": "ipython3",
   "version": "3.7.8"
  }
 },
 "nbformat": 4,
 "nbformat_minor": 4
}
