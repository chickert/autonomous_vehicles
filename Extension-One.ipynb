{
 "cells": [
  {
   "cell_type": "code",
   "execution_count": 20,
   "metadata": {},
   "outputs": [
    {
     "name": "stdout",
     "output_type": "stream",
     "text": [
      "The autoreload extension is already loaded. To reload it, use:\n",
      "  %reload_ext autoreload\n"
     ]
    }
   ],
   "source": [
    "# Automatically reload custom code modules when there are changes:\n",
    "%load_ext autoreload\n",
    "%autoreload 2\n"
   ]
  },
  {
   "cell_type": "code",
   "execution_count": 21,
   "metadata": {},
   "outputs": [],
   "source": [
    "# Adjust relative path so that the notebook can find the code modules:\n",
    "import sys\n",
    "sys.path.append('code/')\n"
   ]
  },
  {
   "cell_type": "code",
   "execution_count": 22,
   "metadata": {},
   "outputs": [],
   "source": [
    "import numpy as np\n",
    "import pandas as pd\n",
    "\n",
    "import matplotlib as mpl\n",
    "import matplotlib.pyplot as plt\n",
    "\n",
    "%matplotlib inline\n"
   ]
  },
  {
   "cell_type": "code",
   "execution_count": 23,
   "metadata": {},
   "outputs": [],
   "source": [
    "# Import code modules:\n",
    "from structures import *\n"
   ]
  },
  {
   "cell_type": "code",
   "execution_count": 24,
   "metadata": {},
   "outputs": [],
   "source": [
    "# Hide warnings about safe distance violation (still in development):\n",
    "import warnings\n",
    "warnings.filterwarnings(\"ignore\", category=UserWarning)\n"
   ]
  },
  {
   "cell_type": "code",
   "execution_count": 25,
   "metadata": {},
   "outputs": [],
   "source": [
    "# Define a ring road environment:\n",
    "env = RingRoad(\n",
    "    num_vehicles = 22,  # The vechicles at index 0 is an A.V.\n",
    "    ring_length = 230.0,  # The road is a cicle.\n",
    "    starting_noise = 4.0,  # Uniformly add noise to starting positions.\n",
    "    temporal_res = 0.3,  # Set the size of simulation steps (seconds).\n",
    "    av_activate = 30,  # Set when the PID controller is activated.\n",
    "    seed = 286,  # Set a random seed.\n",
    "    uncertain_avs=True,\n",
    ")\n",
    "\n"
   ]
  },
  {
   "cell_type": "code",
   "execution_count": 27,
   "metadata": {},
   "outputs": [
    {
     "ename": "UnboundLocalError",
     "evalue": "local variable 'robot' referenced before assignment",
     "output_type": "error",
     "traceback": [
      "\u001b[0;31m---------------------------------------------------------------------------\u001b[0m",
      "\u001b[0;31mUnboundLocalError\u001b[0m                         Traceback (most recent call last)",
      "\u001b[0;32m<ipython-input-27-35a540ecad89>\u001b[0m in \u001b[0;36m<module>\u001b[0;34m\u001b[0m\n\u001b[1;32m     50\u001b[0m     \u001b[0mplt\u001b[0m\u001b[0;34m.\u001b[0m\u001b[0mshow\u001b[0m\u001b[0;34m(\u001b[0m\u001b[0;34m)\u001b[0m\u001b[0;34m\u001b[0m\u001b[0;34m\u001b[0m\u001b[0m\n\u001b[1;32m     51\u001b[0m \u001b[0;34m\u001b[0m\u001b[0m\n\u001b[0;32m---> 52\u001b[0;31m \u001b[0mextension_one\u001b[0m\u001b[0;34m(\u001b[0m\u001b[0mnum_vehicles\u001b[0m\u001b[0;34m)\u001b[0m\u001b[0;34m\u001b[0m\u001b[0;34m\u001b[0m\u001b[0m\n\u001b[0m\u001b[1;32m     53\u001b[0m \u001b[0;34m\u001b[0m\u001b[0m\n\u001b[1;32m     54\u001b[0m \u001b[0;34m\u001b[0m\u001b[0m\n",
      "\u001b[0;32m<ipython-input-27-35a540ecad89>\u001b[0m in \u001b[0;36mextension_one\u001b[0;34m(num_vehicles)\u001b[0m\n\u001b[1;32m     19\u001b[0m         \u001b[0mav_activate\u001b[0m \u001b[0;34m=\u001b[0m \u001b[0;36m30\u001b[0m\u001b[0;34m,\u001b[0m  \u001b[0;31m# Set when the PID controller is activated.\u001b[0m\u001b[0;34m\u001b[0m\u001b[0;34m\u001b[0m\u001b[0m\n\u001b[1;32m     20\u001b[0m         \u001b[0mseed\u001b[0m \u001b[0;34m=\u001b[0m \u001b[0;36m286\u001b[0m\u001b[0;34m,\u001b[0m  \u001b[0;31m# Set a random seed.\u001b[0m\u001b[0;34m\u001b[0m\u001b[0;34m\u001b[0m\u001b[0m\n\u001b[0;32m---> 21\u001b[0;31m         \u001b[0mnum_avs\u001b[0m \u001b[0;34m=\u001b[0m \u001b[0mi\u001b[0m\u001b[0;34m\u001b[0m\u001b[0;34m\u001b[0m\u001b[0m\n\u001b[0m\u001b[1;32m     22\u001b[0m         )\n\u001b[1;32m     23\u001b[0m \u001b[0;34m\u001b[0m\u001b[0m\n",
      "\u001b[0;32m~/Documents/CS286/Final_Project/autonomous_vehicles/code/structures.py\u001b[0m in \u001b[0;36m__init__\u001b[0;34m(self, num_vehicles, ring_length, starting_noise, av_activate, temporal_res, seed, num_avs, hv_heterogeneity, uncertain_avs)\u001b[0m\n\u001b[1;32m    150\u001b[0m         \u001b[0mself\u001b[0m\u001b[0;34m.\u001b[0m\u001b[0mrandom\u001b[0m \u001b[0;34m=\u001b[0m \u001b[0mnp\u001b[0m\u001b[0;34m.\u001b[0m\u001b[0mrandom\u001b[0m\u001b[0;34m.\u001b[0m\u001b[0mRandomState\u001b[0m\u001b[0;34m(\u001b[0m\u001b[0mseed\u001b[0m\u001b[0;34m)\u001b[0m\u001b[0;34m\u001b[0m\u001b[0;34m\u001b[0m\u001b[0m\n\u001b[1;32m    151\u001b[0m         \u001b[0mself\u001b[0m\u001b[0;34m.\u001b[0m\u001b[0mgauss_random\u001b[0m \u001b[0;34m=\u001b[0m \u001b[0mrandom\u001b[0m\u001b[0;34m.\u001b[0m\u001b[0mseed\u001b[0m\u001b[0;34m(\u001b[0m\u001b[0mseed\u001b[0m\u001b[0;34m)\u001b[0m\u001b[0;34m\u001b[0m\u001b[0;34m\u001b[0m\u001b[0m\n\u001b[0;32m--> 152\u001b[0;31m         \u001b[0mself\u001b[0m\u001b[0;34m.\u001b[0m\u001b[0mreset_state\u001b[0m\u001b[0;34m(\u001b[0m\u001b[0;34m)\u001b[0m\u001b[0;34m\u001b[0m\u001b[0;34m\u001b[0m\u001b[0m\n\u001b[0m\u001b[1;32m    153\u001b[0m         \u001b[0mself\u001b[0m\u001b[0;34m.\u001b[0m\u001b[0marchive_state\u001b[0m\u001b[0;34m(\u001b[0m\u001b[0;34m)\u001b[0m\u001b[0;34m\u001b[0m\u001b[0;34m\u001b[0m\u001b[0m\n\u001b[1;32m    154\u001b[0m \u001b[0;34m\u001b[0m\u001b[0m\n",
      "\u001b[0;32m~/Documents/CS286/Final_Project/autonomous_vehicles/code/structures.py\u001b[0m in \u001b[0;36mreset_state\u001b[0;34m(self)\u001b[0m\n\u001b[1;32m    247\u001b[0m             \u001b[0;34m'time'\u001b[0m \u001b[0;34m:\u001b[0m \u001b[0;36m0.0\u001b[0m\u001b[0;34m,\u001b[0m\u001b[0;34m\u001b[0m\u001b[0;34m\u001b[0m\u001b[0m\n\u001b[1;32m    248\u001b[0m             \u001b[0;34m'vehicles'\u001b[0m \u001b[0;34m:\u001b[0m \u001b[0mvehicles\u001b[0m\u001b[0;34m,\u001b[0m  \u001b[0;31m# List of vehicles in 0,...,(N-1) index order, with A.V. at index 0.\u001b[0m\u001b[0;34m\u001b[0m\u001b[0;34m\u001b[0m\u001b[0m\n\u001b[0;32m--> 249\u001b[0;31m             \u001b[0;34m'av_active'\u001b[0m \u001b[0;34m:\u001b[0m \u001b[0mrobot\u001b[0m\u001b[0;34m.\u001b[0m\u001b[0mactive\u001b[0m\u001b[0;34m,\u001b[0m\u001b[0;34m\u001b[0m\u001b[0;34m\u001b[0m\u001b[0m\n\u001b[0m\u001b[1;32m    250\u001b[0m         }\n\u001b[1;32m    251\u001b[0m \u001b[0;34m\u001b[0m\u001b[0m\n",
      "\u001b[0;31mUnboundLocalError\u001b[0m: local variable 'robot' referenced before assignment"
     ]
    }
   ],
   "source": [
    "num_vehicles = 5\n",
    "\n",
    "# Scale the proportion of AVs in the system (from 0% to 100%) and record the results for each\n",
    "# Then, plot the results \n",
    "\n",
    "def extension_one(num_vehicles):\n",
    "    means_before = []\n",
    "    std_devs_before = []\n",
    "    \n",
    "    means_after = []\n",
    "    std_devs_after = []\n",
    "    \n",
    "    for i in range(num_vehicles):\n",
    "        env = RingRoad(\n",
    "        num_vehicles = num_vehicles,  # The vechicles at index 0 is an A.V.\n",
    "        ring_length = 230.0,  # The road is a cicle.\n",
    "        starting_noise = 4.0,  # Uniformly add noise to starting positions.\n",
    "        temporal_res = 0.3,  # Set the size of simulation steps (seconds).\n",
    "        av_activate = 30,  # Set when the PID controller is activated.\n",
    "        seed = 286,  # Set a random seed.\n",
    "        num_avs = i\n",
    "        )\n",
    "\n",
    "        # Plot initial conditions for select cases for illustrative purposes\n",
    "        if num_avs % int(num_vehicles // 2):\n",
    "            fig,ax = env.visualize(step=0, draw_cars_to_scale=True, draw_safety_buffer=True)\n",
    "\n",
    "        # Run each simulation for set number of time steps:\n",
    "        total_time = 50  # In seconds.\n",
    "        total_steps = int(np.ceil(total_time/env.dt))\n",
    "        env.run(steps=total_steps)\n",
    "\n",
    "        # Collect and system metrics for plotting:\n",
    "        steps_before = range(0,env.av_activate)\n",
    "        steps_after = range(env.av_activate, env.step)\n",
    "        speeds_before = env.get_vehicle_vel_table(steps_before)\n",
    "        speeds_after = env.get_vehicle_vel_table(steps_after)\n",
    "\n",
    "        # Store std dev and mean of each vehicle's velocity averaged across all vehicles BEFORE controller was activated\n",
    "        means_before.append(speeds_before.mean(axis=0).mean())\n",
    "        std_devs_before.append(speeds_before.std(axis=0).mean())\n",
    "\n",
    "        # Store std dev and mean of each vehicle's velocity averaged across all vehicles BEFORE controller was activated\n",
    "        means_after.append(speeds_after.mean(axis=0).mean())\n",
    "        std_devs_after.append(speeds_after.std(axis=0).mean())\n",
    "        \n",
    "    \n",
    "    # Plot results\n",
    "    plt.plot(range(num_avs), means_before)\n",
    "    plt.show()\n",
    "    \n",
    "extension_one(num_vehicles)\n",
    "\n",
    "    \n",
    "    \n",
    "    "
   ]
  },
  {
   "cell_type": "code",
   "execution_count": null,
   "metadata": {},
   "outputs": [],
   "source": []
  }
 ],
 "metadata": {
  "kernelspec": {
   "display_name": "Python 3",
   "language": "python",
   "name": "python3"
  },
  "language_info": {
   "codemirror_mode": {
    "name": "ipython",
    "version": 3
   },
   "file_extension": ".py",
   "mimetype": "text/x-python",
   "name": "python",
   "nbconvert_exporter": "python",
   "pygments_lexer": "ipython3",
   "version": "3.7.4"
  }
 },
 "nbformat": 4,
 "nbformat_minor": 2
}
