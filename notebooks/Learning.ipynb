{
 "cells": [
  {
   "cell_type": "code",
   "execution_count": null,
   "metadata": {},
   "outputs": [],
   "source": [
    "# Automatically reload custom code modules when there are changes:\n",
    "%load_ext autoreload\n",
    "%autoreload 2\n"
   ]
  },
  {
   "cell_type": "code",
   "execution_count": null,
   "metadata": {},
   "outputs": [],
   "source": [
    "# Adjust relative path so that the notebook can find the code modules:\n",
    "import sys\n",
    "sys.path.append('code/dqn/')\n",
    "sys.path.append('code/')\n"
   ]
  },
  {
   "cell_type": "code",
   "execution_count": null,
   "metadata": {},
   "outputs": [],
   "source": [
    "import numpy as np\n",
    "import pandas as pd\n",
    "\n",
    "import matplotlib as mpl\n",
    "import matplotlib.pyplot as plt\n",
    "\n",
    "%matplotlib notebook\n"
   ]
  },
  {
   "cell_type": "code",
   "execution_count": null,
   "metadata": {},
   "outputs": [],
   "source": [
    "# Import code modules:\n",
    "from structures import RingRoad\n",
    "from animations import Animation\n",
    "from learning import Game\n",
    "from learning import Replay\n"
   ]
  },
  {
   "cell_type": "code",
   "execution_count": null,
   "metadata": {},
   "outputs": [],
   "source": [
    "# Hide warnings about safe distance violation (still in development):\n",
    "import warnings\n",
    "warnings.filterwarnings(\"ignore\", category=UserWarning)\n"
   ]
  },
  {
   "cell_type": "markdown",
   "metadata": {},
   "source": [
    "# Train:\n"
   ]
  },
  {
   "cell_type": "code",
   "execution_count": null,
   "metadata": {},
   "outputs": [],
   "source": [
    "# Define a ring road environment:\n",
    "road_params = {\n",
    "    'num_avs' : 2,\n",
    "    'av_even_spacing' : True,\n",
    "    'num_vehicles' : 10,  # The vechicles at index 0 is an A.V.\n",
    "    'ring_length' : 100.0,  # The road is a cicle.\n",
    "    'starting_noise' : 1.0,  # Uniformly add noise to starting positions.\n",
    "    'temporal_res' : 0.5,  # Set the size of simulation steps (seconds).\n",
    "    'av_activate' : 30,  # Set when the PID controller is activated.\n",
    "    'seed' : 286,  # Set a random seed.\n",
    "}\n",
    "road = RingRoad(**road_params)\n",
    "\n",
    "# Plot initial conditions:\n",
    "#fig,ax = road.plot_ring(step=0, draw_cars_to_scale=True, draw_safety_buffer=True)\n",
    "\n",
    "# Run the simulation for set number of time steps:\n",
    "total_time = 90  # In seconds.\n",
    "total_steps = int(np.ceil(total_time/road.dt))\n",
    "road.run(steps=total_steps)\n",
    "\n",
    "# Show step of simulation:\n",
    "step = road.step\n",
    "fig, axs = road.plot_dashboard(\n",
    "    step=step, total_steps=total_steps,\n",
    "    draw_cars_to_scale=True, draw_safety_buffer=True, label_step=True, label_cars=True,\n",
    ")\n"
   ]
  },
  {
   "cell_type": "code",
   "execution_count": null,
   "metadata": {
    "scrolled": false
   },
   "outputs": [],
   "source": [
    "# Build animation:\n",
    "anim = Animation(road, speedup=5.0, interval=5)\n",
    "anim.animate_dashboard(draw_cars_to_scale=True, draw_safety_buffer=False, show_sigma=True)\n",
    "\n",
    "# Show animation:\n",
    "anim.show()\n",
    "\n",
    "# Save animation as GIF (may take a few minutes -- pauses preview above):\n",
    "anim.save_gif(filepath=\"outputs/learning_goal.gif\", overwrite=True)\n"
   ]
  },
  {
   "cell_type": "code",
   "execution_count": null,
   "metadata": {},
   "outputs": [],
   "source": [
    "# Deactivate interactive plotting mode (ends preview above):\n",
    "# anim.stop()\n"
   ]
  },
  {
   "cell_type": "code",
   "execution_count": null,
   "metadata": {},
   "outputs": [],
   "source": [
    "# Define the same ring road but with learning mode:\n",
    "road_params['learning_mode'] = True\n",
    "road_params['av_activate'] = 0\n",
    "road = RingRoad(**road_params)\n",
    "\n",
    "# Initialize a game with this road:\n",
    "game = Game(\n",
    "    road = road,\n",
    "    agent_commands = [-1.0, -0.1, 0.0, 0.1, 1.0],\n",
    "    past_steps = 3,\n",
    "    max_seconds = None,\n",
    ")\n"
   ]
  },
  {
   "cell_type": "code",
   "execution_count": null,
   "metadata": {},
   "outputs": [],
   "source": [
    "print(\"observation_space shape:\",game.observation_space.shape)\n",
    "print(\"action_space size:\",game.action_space.n)\n"
   ]
  },
  {
   "cell_type": "code",
   "execution_count": null,
   "metadata": {},
   "outputs": [],
   "source": [
    "print(game.action_space())\n"
   ]
  },
  {
   "cell_type": "code",
   "execution_count": null,
   "metadata": {},
   "outputs": [],
   "source": [
    "# Get command tuple at given index:\n",
    "game.action_space.decode(action_index=3)\n"
   ]
  },
  {
   "cell_type": "code",
   "execution_count": null,
   "metadata": {},
   "outputs": [],
   "source": [
    "# Get index of command tuple:\n",
    "game.action_space.encode(agent_commands=(-1,0))\n"
   ]
  },
  {
   "cell_type": "code",
   "execution_count": null,
   "metadata": {},
   "outputs": [],
   "source": [
    "# Take a few steps:\n",
    "next_observation, reward, done, info = game.step(3)\n",
    "next_observation, reward, done, info = game.step(0)\n",
    "next_observation\n"
   ]
  },
  {
   "cell_type": "code",
   "execution_count": null,
   "metadata": {},
   "outputs": [],
   "source": [
    "display(game.road.get_vehicle_pos_table().tail())\n",
    "display(game.road.get_vehicle_control_table().tail())\n"
   ]
  },
  {
   "cell_type": "markdown",
   "metadata": {},
   "source": [
    "# Test:\n"
   ]
  },
  {
   "cell_type": "code",
   "execution_count": null,
   "metadata": {},
   "outputs": [],
   "source": [
    "replay = Replay.from_files(\n",
    "    saved_models_dir = './code/dqn/saved-models/',\n",
    "    # run_id = '2n769rgx', ep_num = 4468,\n",
    "    # run_id = '3al8vr8k', ep_num = 1388,\n",
    "    # run_id = '2gts27uw', ep_num = 7355,\n",
    "    run_id = 'fnwz2w4x', ep_num = 5098,\n",
    ")\n",
    "replay.build(seconds=30)\n",
    "env = replay.road\n"
   ]
  },
  {
   "cell_type": "code",
   "execution_count": null,
   "metadata": {},
   "outputs": [],
   "source": [
    "# Build animation:\n",
    "anim = Animation(env)\n",
    "anim.animate_dashboard(draw_cars_to_scale=True, draw_safety_buffer=False, show_sigma=True)\n"
   ]
  },
  {
   "cell_type": "code",
   "execution_count": null,
   "metadata": {},
   "outputs": [],
   "source": [
    "# Save animation as GIF (may take a few minutes -- pauses preview above):\n",
    "anim.save_gif(filepath=\"outputs/learning_result.gif\", overwrite=True)\n"
   ]
  },
  {
   "cell_type": "code",
   "execution_count": null,
   "metadata": {},
   "outputs": [],
   "source": []
  }
 ],
 "metadata": {
  "kernelspec": {
   "display_name": "dqn",
   "language": "python",
   "name": "dqn"
  },
  "language_info": {
   "codemirror_mode": {
    "name": "ipython",
    "version": 3
   },
   "file_extension": ".py",
   "mimetype": "text/x-python",
   "name": "python",
   "nbconvert_exporter": "python",
   "pygments_lexer": "ipython3",
   "version": "3.7.8"
  }
 },
 "nbformat": 4,
 "nbformat_minor": 4
}
