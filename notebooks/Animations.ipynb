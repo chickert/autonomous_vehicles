{
 "cells": [
  {
   "cell_type": "code",
   "execution_count": null,
   "metadata": {},
   "outputs": [],
   "source": [
    "# Automatically reload custom code modules when there are changes:\n",
    "%load_ext autoreload\n",
    "%autoreload 2\n"
   ]
  },
  {
   "cell_type": "code",
   "execution_count": null,
   "metadata": {},
   "outputs": [],
   "source": [
    "# Adjust relative path so that the notebook can find the code modules:\n",
    "import sys\n",
    "sys.path.append('../code/')\n"
   ]
  },
  {
   "cell_type": "code",
   "execution_count": null,
   "metadata": {},
   "outputs": [],
   "source": [
    "import numpy as np\n",
    "import pandas as pd\n",
    "\n",
    "import matplotlib as mpl\n",
    "import matplotlib.pyplot as plt\n",
    "\n",
    "%matplotlib notebook\n"
   ]
  },
  {
   "cell_type": "code",
   "execution_count": null,
   "metadata": {},
   "outputs": [],
   "source": [
    "# Import code modules:\n",
    "from structures import RingRoad\n",
    "from animations import Animation\n"
   ]
  },
  {
   "cell_type": "code",
   "execution_count": null,
   "metadata": {},
   "outputs": [],
   "source": [
    "# Hide warnings about safe distance violation (still in development):\n",
    "import warnings\n",
    "warnings.filterwarnings(\"ignore\", category=UserWarning)\n"
   ]
  },
  {
   "cell_type": "markdown",
   "metadata": {},
   "source": [
    "# Baseline:\n"
   ]
  },
  {
   "cell_type": "code",
   "execution_count": null,
   "metadata": {},
   "outputs": [],
   "source": [
    "# Define simulation:\n",
    "env = RingRoad(\n",
    "    num_vehicles = 22,  # The vechicles at index 0 is an A.V.\n",
    "    ring_length = 230.0,  # The road is a cicle.\n",
    "    starting_noise = 4.0,  # Uniformly add noise to starting positions.\n",
    "    temporal_res = 0.3,  # Set the size of simulation steps (seconds).\n",
    "    av_activate = 30,  # Set when the PID controller is activated.\n",
    "    seed = 286,  # Set a random seed.\n",
    ")\n",
    "\n",
    "# Run the simulation for set number of time steps:\n",
    "total_time = 90  # In seconds.\n",
    "total_steps = int(np.ceil(total_time/env.dt))\n",
    "env.run(steps=total_steps)\n",
    "\n",
    "# Build animation:\n",
    "anim = Animation(env, speedup=5.0, interval=5, mode='notebook')\n",
    "anim.animate_dashboard(draw_cars_to_scale=True, draw_safety_buffer=False, show_sigma=True)\n",
    "\n",
    "# # Show animation:\n",
    "# anim.show()\n"
   ]
  },
  {
   "cell_type": "code",
   "execution_count": null,
   "metadata": {},
   "outputs": [],
   "source": [
    "# # Save animation as GIF:\n",
    "# anim.save_gif(filepath=\"../outputs/baseline.gif\", overwrite=True)\n",
    "\n",
    "# # Stop animation:\n",
    "# anim.stop()\n"
   ]
  },
  {
   "cell_type": "markdown",
   "metadata": {},
   "source": [
    "<a href='https://github.com/chickert/autonomous_vehicles/raw/main/outputs/baseline.gif'><img src='https://github.com/chickert/autonomous_vehicles/raw/main/outputs/baseline.gif' /></a>\n"
   ]
  },
  {
   "cell_type": "markdown",
   "metadata": {},
   "source": [
    "# Extension 1\n"
   ]
  },
  {
   "cell_type": "code",
   "execution_count": null,
   "metadata": {},
   "outputs": [],
   "source": [
    "# Define simulation:\n",
    "num_vehicles = 22\n",
    "num_avs = 11\n",
    "env = RingRoad(\n",
    "    num_vehicles=num_vehicles,  # The vechicles at index 0 is an A.V.\n",
    "    ring_length=230.0,  # The road is a cicle.\n",
    "    starting_noise=4.0,  # Uniformly add noise to starting positions.\n",
    "    temporal_res=0.3,  # Set the size of simulation steps (seconds).\n",
    "    av_activate=30,  # Set when the PID controller is activated.\n",
    "    seed=286,  # Set a random seed.\n",
    "    num_avs=num_avs\n",
    ")\n",
    "\n",
    "# Run the simulation for set number of time steps:\n",
    "total_time = 90  # In seconds.\n",
    "total_steps = int(np.ceil(total_time/env.dt))\n",
    "env.run(steps=total_steps)\n",
    "\n",
    "# Build animation:\n",
    "anim = Animation(env, speedup=5.0, interval=5, mode='notebook')\n",
    "anim.animate_dashboard(draw_cars_to_scale=True, draw_safety_buffer=False, show_sigma=True)\n",
    "\n",
    "# # Show animation:\n",
    "# anim.show()\n"
   ]
  },
  {
   "cell_type": "code",
   "execution_count": null,
   "metadata": {},
   "outputs": [],
   "source": [
    "# # Save animation as GIF:\n",
    "# anim.save_gif(filepath=\"../outputs/extension1.gif\", overwrite=True)\n",
    "\n",
    "# # Stop animation:\n",
    "# anim.stop()\n"
   ]
  },
  {
   "cell_type": "markdown",
   "metadata": {},
   "source": [
    "<a href='https://github.com/chickert/autonomous_vehicles/raw/main/outputs/extension1.gif'><img src='https://github.com/chickert/autonomous_vehicles/raw/main/outputs/extension1.gif' /></a>\n"
   ]
  },
  {
   "cell_type": "markdown",
   "metadata": {},
   "source": [
    "# Extension 2\n"
   ]
  },
  {
   "cell_type": "code",
   "execution_count": null,
   "metadata": {},
   "outputs": [],
   "source": [
    "# Define simulation:\n",
    "a_sigma = 0.04\n",
    "b_sigma = 0.5\n",
    "env = RingRoad(\n",
    "    num_vehicles=22,  # The vechicles at index 0 is an A.V.\n",
    "    ring_length=230.0,  # The road is a cicle.\n",
    "    starting_noise=0.,  # Uniformly add noise to starting positions.\n",
    "    temporal_res=0.3,  # Set the size of simulation steps (seconds).\n",
    "    av_activate=30,  # Set when the PID controller is activated.\n",
    "    seed=286,  # Set a random seed.\n",
    "    a_sigma=a_sigma,\n",
    "    b_sigma=b_sigma,\n",
    "    hv_heterogeneity=True,\n",
    ")\n",
    "\n",
    "# Run the simulation for set number of time steps:\n",
    "total_time = 90  # In seconds.\n",
    "total_steps = int(np.ceil(total_time/env.dt))\n",
    "env.run(steps=total_steps)\n",
    "\n",
    "# Build animation:\n",
    "anim = Animation(env, speedup=5.0, interval=5, mode='notebook')\n",
    "anim.animate_dashboard(draw_cars_to_scale=True, draw_safety_buffer=False, show_sigma=True)\n",
    "\n",
    "# # Show animation:\n",
    "# anim.show()\n"
   ]
  },
  {
   "cell_type": "code",
   "execution_count": null,
   "metadata": {},
   "outputs": [],
   "source": [
    "# # Save animation as GIF:\n",
    "# anim.save_gif(filepath=\"../outputs/extension2.gif\", overwrite=True)\n",
    "\n",
    "# # Stop animation:\n",
    "# anim.stop()\n"
   ]
  },
  {
   "cell_type": "markdown",
   "metadata": {},
   "source": [
    "<a href='https://github.com/chickert/autonomous_vehicles/blob/main/outputs/extension2.gif'><img src='https://github.com/chickert/autonomous_vehicles/raw/main/outputs/extension2.gif' /></a>\n"
   ]
  },
  {
   "cell_type": "markdown",
   "metadata": {},
   "source": [
    "# Extension 3\n"
   ]
  },
  {
   "cell_type": "code",
   "execution_count": null,
   "metadata": {},
   "outputs": [],
   "source": [
    "# Define simulation:\n",
    "sigma_pct = 40\n",
    "env = RingRoad(\n",
    "    num_vehicles=22,  # The vechicles at index 0 is an A.V.\n",
    "    ring_length=230.0,  # The road is a cicle.\n",
    "    starting_noise=4.0,  # Uniformly add noise to starting positions.\n",
    "    temporal_res=0.3,  # Set the size of simulation steps (seconds).\n",
    "    av_activate=30,  # Set when the PID controller is activated.\n",
    "    seed=286,  # Set a random seed.\n",
    "    uncertain_avs=True,\n",
    "    sigma_pct=sigma_pct\n",
    ")\n",
    "\n",
    "# Run the simulation for set number of time steps:\n",
    "total_time = 50  # In seconds.\n",
    "total_steps = int(np.ceil(total_time/env.dt))\n",
    "env.run(steps=total_steps)\n",
    "\n",
    "# Build animation:\n",
    "anim = Animation(env, speedup=5.0, interval=5, mode='notebook')\n",
    "anim.animate_dashboard(draw_cars_to_scale=True, draw_safety_buffer=False, show_sigma=True)\n",
    "\n",
    "# # Show animation:\n",
    "# anim.show()\n"
   ]
  },
  {
   "cell_type": "code",
   "execution_count": null,
   "metadata": {},
   "outputs": [],
   "source": [
    "# # Save animation as GIF:\n",
    "# anim.save_gif(filepath=\"../outputs/extension3.gif\", overwrite=True)\n",
    "\n",
    "# # Stop animation:\n",
    "# anim.stop()\n"
   ]
  },
  {
   "cell_type": "markdown",
   "metadata": {},
   "source": [
    "<a href='https://github.com/chickert/autonomous_vehicles/raw/main/outputs/extension3.gif'><img src='https://github.com/chickert/autonomous_vehicles/raw/main/outputs/extension3.gif' /></a>\n"
   ]
  },
  {
   "cell_type": "code",
   "execution_count": null,
   "metadata": {},
   "outputs": [],
   "source": []
  }
 ],
 "metadata": {
  "kernelspec": {
   "display_name": "cs286",
   "language": "python",
   "name": "cs286"
  },
  "language_info": {
   "codemirror_mode": {
    "name": "ipython",
    "version": 3
   },
   "file_extension": ".py",
   "mimetype": "text/x-python",
   "name": "python",
   "nbconvert_exporter": "python",
   "pygments_lexer": "ipython3",
   "version": "3.7.8"
  }
 },
 "nbformat": 4,
 "nbformat_minor": 4
}
